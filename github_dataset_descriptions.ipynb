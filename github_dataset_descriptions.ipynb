{
 "cells": [
  {
   "cell_type": "markdown",
   "metadata": {},
   "source": [
    "# Description of Datasets"
   ]
  },
  {
   "cell_type": "markdown",
   "metadata": {},
   "source": [
    "## abolone.csv\n",
    "\n",
    "Abolone dataset from [UCI](https://archive.ics.uci.edu/ml/datasets/abalone). The dataset contains physical measurements of abolones. The goal is to predict the age of an abolone as measured by the number of rings.\n",
    "\n",
    "**Problem Type:** Regression\n",
    "\n",
    "**Size:** 8 features, 4177 instances"
   ]
  },
  {
   "cell_type": "markdown",
   "metadata": {},
   "source": [
    "## ailerons.csv\n",
    "\n",
    "Aileron dataset from [LLIACC repository](http://www.dcc.fc.up.pt/~ltorgo/Regression/DataSets.html). The dataset contains control status of an F-16 warplane. The goal is to predict the control action of the ailerons of the aircraft.\n",
    "\n",
    "**Problem Type:** Regression\n",
    "\n",
    "**Size:** 40 features, 7154 instances"
   ]
  },
  {
   "cell_type": "markdown",
   "metadata": {},
   "source": [
    "## airline_passenger_satisfaction.csv\n",
    "\n",
    "The airline passenger satisfaction dataset from [Kaggle](https://www.kaggle.com/teejmahal20/airline-passenger-satisfaction). The dataset contains an airline passenger satisfaction survey. The goal is to predict customer satisfaction level.\n",
    "\n",
    "**Problem Type:** Binary classification\n",
    "\n",
    "**Size:** 23 features, 129880 instances"
   ]
  },
  {
   "cell_type": "markdown",
   "metadata": {},
   "source": [
    "## ar10p.csv\n",
    "\n",
    "The AR10P dataset contains features extracted from facial images in [The AR Face Database](http://www2.ece.ohio-state.edu/~aleix/ARdatabase).\n",
    "\n",
    "**Problem Type**: Multinominal classification (10 classes)\n",
    "\n",
    "**Size**: 2400 features, 130 instances"
   ]
  },
  {
   "cell_type": "markdown",
   "metadata": {},
   "source": [
    "## arrhythmia.csv\n",
    "Arrhythmia dataset from [UCI](https://archive.ics.uci.edu/ml/datasets/arrhythmia ). The aim is to distinguish between the presence and absence of cardiac arrhythmia and to classify it in one of the 16 groups.\n",
    "\n",
    "**Problem type**: Multinomial classification (16 classes)\n",
    "\n",
    "**Size**: 279 features, 420 instances"
   ]
  },
  {
   "cell_type": "markdown",
   "metadata": {},
   "source": [
    "## australian .csv\n",
    "\n",
    "\n",
    "(Statlog) Australian Credit Approval dataset from [UCI](https://archive.ics.uci.edu/ml/datasets/statlog+(australian+credit+approval)). The aim is to predict class attribute.\n",
    "\n",
    "**Problem type**: Binary classification\n",
    "\n",
    "**Size**: 14 features, 690 instances"
   ]
  },
  {
   "cell_type": "markdown",
   "metadata": {},
   "source": [
    "## bank_marketing_full.csv\n",
    "\n",
    "The Bank Marketing dataset from [UCI](https://archive.ics.uci.edu/ml/datasets/Bank+Marketing ). The dataset contains bank client data. The goal is the predict whether the client subscribed to a term deposit.\n",
    "\n",
    "**Problem Type**: Binary classification\n",
    "\n",
    "**Size**: 21 features, 41188 instances"
   ]
  },
  {
   "cell_type": "markdown",
   "metadata": {},
   "source": [
    "## boston_housing.csv\n",
    "\n",
    "The Boston Housing dataset from [Kaggle](https://www.kaggle.com/c/boston-housing). The dataset contains social and economic features of suburbs in Boston. The goal is the predict the median value of owner-occupied homes.\n",
    "\n",
    "**Problem Type**: Regression\n",
    "\n",
    "**Size**: 14 features, 506 instances"
   ]
  },
  {
   "cell_type": "markdown",
   "metadata": {},
   "source": [
    "## breast_cancer_wisconsin.csv\n",
    "\n",
    "The Breast Cancer Wisconsin dataset from [UCI](https://archive.ics.uci.edu/ml/datasets/Breast+Cancer+Wisconsin+%28Diagnostic%29). The dataset contains cell biopsy results for cancer screening. The objective is to predict whether a given observation is benign or malignant.\n",
    "\n",
    "**Problem type**: Binary classification (B: benign, M: malignant)\n",
    "\n",
    "**Size**: 31 features, 569 instances"
   ]
  },
  {
   "cell_type": "markdown",
   "metadata": {},
   "source": [
    "## brfss_2000.csv\n",
    "\n",
    "The Behavioral Risk Factor Surveillance System (BRFSS) is an annual telephone survey of adults in the U.S. As its name implies, the BRFSS is designed to identify risk factors in the adult population and report emerging health trends. For example, respondents are asked about their diet and weekly physical activity, possible tobacco use, and their level of healthcare coverage. The BRFSS [website](http://www.cdc.gov/brfss) contains a complete description of the survey, including the research questions that motivate the study and many interesting results derived from the data.\n",
    "\n",
    "This dataset is a random sample of 20,000 people from the BRFSS survey conducted in 2000.\n",
    "\n",
    "**Problem Type**: Regression/ Multinominal Classification (5 ordinal classes)\n",
    "\n",
    "**Size**: 9 features, 20000 instances"
   ]
  },
  {
   "cell_type": "markdown",
   "metadata": {},
   "source": [
    "## cll_111.csv\n",
    "\n",
    "The chronic lymphocytic leukemia dataset.\n",
    "\n",
    "**Problem type**: Multinominal Classification (3 classes)\n",
    "\n",
    "**Size**: 11341 features, 111 instances"
   ]
  },
  {
   "cell_type": "markdown",
   "metadata": {},
   "source": [
    "## coil_20.csv\n",
    "\n",
    "The dataset has features generated by images from the [Columbia Object Image Library](http://www.cs.columbia.edu/CAVE/publications/pdfs/Nene_TR96.pdf). The original images are photos of 20 different toys taken in gray scale on a motorized turntable. The goal is to classify the toy.\n",
    "\n",
    "**Problem type**: Multinominal Classification (20 classes)\n",
    "\n",
    "**Size**: 1024 features, 1440 instances"
   ]
  },
  {
   "cell_type": "markdown",
   "metadata": {},
   "source": [
    "## cpu_act.csv\n",
    "\n",
    "The comp_activ dataset from the [DELVE repository of data](https://www.cs.toronto.edu/~delve/data/comp-activ/desc.html). The dataset contains records of various performance measures taken every 5 seconds from a Sun Sparctation 20/712 with 2 cpus and 128MB of main memory. The goal is to predict the portion of time that cpus run in user mode.\n",
    "\n",
    "**Problem type**: Regression\n",
    "\n",
    "**Size**: 22 features, 8192 instances\n"
   ]
  },
  {
   "cell_type": "markdown",
   "metadata": {},
   "source": [
    "## default_credit_card_clients.csv\n",
    "\n",
    "The default of credit card clients from [UCI](https://archive.ics.uci.edu/ml/datasets/default+of+credit+card+clients). The dataset contains information (such as gender, age and payment history) on clients in Taiwan from April 2005 to September 2005. The goal is to predict if the client will default on their payment.\n",
    "\n",
    "**Problem type**: Binary classification\n",
    "\n",
    "**Size**: 24 features, 30000 instances"
   ]
  },
  {
   "cell_type": "markdown",
   "metadata": {},
   "source": [
    "## diabetes.csv\n",
    "\n",
    "Early stage diabetes risk prediction dataset from [UCI](https://archive.ics.uci.edu/ml/datasets/Early+stage+diabetes+risk+prediction+dataset.). This dataset contains the sign and symptom data of newly diabetic or would be diabetic patients.\n",
    "\n",
    "**Problem type**: Binary classification\n",
    "\n",
    "**Size**: 17 features, 520 instances"
   ]
  },
  {
   "cell_type": "markdown",
   "metadata": {},
   "source": [
    "## diamonds.csv\n",
    "\n",
    "The diamonds data set from the ggplot2 R library. The dataset contains information on diamonds including carat (numeric), clarity (ordinal), cut (ordinal), and color (ordinal). The objective is to predict the price of a diamond.\n",
    "\n",
    "**Problem type**: Regression\n",
    "\n",
    "**Size**: 10 features, 53940 instances"
   ]
  },
  {
   "cell_type": "markdown",
   "metadata": {},
   "source": [
    "## elevators.csv\n",
    "\n",
    "**Problem type**: Regression\n",
    "\n",
    "**Size**: 19 features, 8752 instances"
   ]
  },
  {
   "cell_type": "markdown",
   "metadata": {},
   "source": [
    "## gisette.csv\n",
    "\n",
    "The Gisette data set from [UCI](https://archive.ics.uci.edu/ml/datasets/Gisette). The data set contains extracted features from handwritten digits \"4\" and \"9\", the goal is to classify these digits.\n",
    "\n",
    "**Problem type**: Binary classification\n",
    "\n",
    "**Size**: 5000 features, 13500 instances"
   ]
  },
  {
   "cell_type": "markdown",
   "metadata": {},
   "source": [
    "## glass.csv\n",
    "\n",
    "The glass identification dataset from [UCI](https://archive.ics.uci.edu/ml/datasets/glass+identification). The dataset contains the refractive index and chemical composition of glass, the goal is to predict the type of glass.\n",
    "\n",
    "**Problem type**: Multinominal classification (7 classes)\n",
    "\n",
    "**Size**: 10 features, 214 instances"
   ]
  },
  {
   "cell_type": "markdown",
   "metadata": {},
   "source": [
    "## gli_85.csv\n",
    "\n",
    "The gli_85 data set was produced as part of a [study](https://www.ncbi.nlm.nih.gov/geo/query/acc.cgi?acc=GSE4412). The data set contains information of 85 gliomas from 74 patients to elucidate glioma biology, prognosticate survival, and define tumor sub-classes. The goal is to classify between grade III and grade IV gliomas.\n",
    "\n",
    "**Problem type**: Binary classification\n",
    "\n",
    "**Size**: 22283 features, 85 instances"
   ]
  },
  {
   "cell_type": "markdown",
   "metadata": {},
   "source": [
    "## heart.csv\n",
    "\n",
    "The heart disease data set from [UCI](https://archive.ics.uci.edu/ml/datasets/heart+Disease). The dataset contains attributes of patients. The goal is to predict whether there is a presence of heart disease.\n",
    "\n",
    "**Problem type**: Binary classification\n",
    "\n",
    "**Size**: 45 features, 267 instances"
   ]
  },
  {
   "cell_type": "markdown",
   "metadata": {},
   "source": [
    "## ionosphere.csv\n",
    "\n",
    "The ionosphere data set from [UCI](https://archive.ics.uci.edu/ml/datasets/ionosphere). The dataset contains received radar signals processed using an autocorrelation function. The goal is to predict whether the radar signals show evidence of some type of structure in the ionosphere, which is denoted as \"g\" for good, or if they pass through, which is denoted a \"b\" for bad.\n",
    "\n",
    "**Problem type**: Binary classification\n",
    "\n",
    "**Size**: 34 features, 351 instances. "
   ]
  },
  {
   "cell_type": "markdown",
   "metadata": {},
   "source": [
    "## isolet.csv\n",
    "\n",
    "The isolet data set from [UCI](https://archive.ics.uci.edu/ml/datasets/isolet). The data set contains features of recordings in which subjects speak each letter of the alphabet twice. The goal is to predict the letter of the alphabet.\n",
    "\n",
    "**Problem type**: Multinominal classification (26 classes)\n",
    "\n",
    "**Size**: 618 features, 1560 instances"
   ]
  },
  {
   "cell_type": "markdown",
   "metadata": {},
   "source": [
    "## libras.csv\n",
    "\n",
    "The libras data set from [UCI](https://archive.ics.uci.edu/ml/datasets/Libras+Movement). The data set contains features on hand movements, the goal is to predict the hand movement type in LIBRAS(official brazillian sign language).\n",
    "\n",
    "**Problem Type**: Multinominal classification (15 classes)\n",
    "\n",
    "**Size**: 91 features, 360 instances"
   ]
  },
  {
   "cell_type": "markdown",
   "metadata": {},
   "source": [
    "## madelon.csv\n",
    "\n",
    "The madelon data set from [UCI](http://archive.ics.uci.edu/ml/datasets/madelon). The data set was artificially created as part of the NIPIS 2003 feature selection challenge. The goal is the predict the two class target variable.\n",
    "\n",
    "**Problem Type**: Binary classification\n",
    "\n",
    "**Size**: 501 features, 2600 instances"
   ]
  },
  {
   "cell_type": "markdown",
   "metadata": {},
   "source": [
    "## melbourne_house_prices.csv\n",
    "\n",
    "Melbourne house prices from [Kaggle](https://www.kaggle.com/dansbecker/melbourne-housing-snapshot). This dataset contains prices of houses sold in Melbourne between January 2016 and September 2017.\n",
    "\n",
    "**Problem Type**: Regression\n",
    "\n",
    "**Size**: 20 features, 13580 instances\n",
    "    \n"
   ]
  },
  {
   "cell_type": "markdown",
   "metadata": {},
   "source": [
    "## mfeat_fac.csv\n",
    "\n",
    "The Multiple Features data set from [UCI](https://archive.ics.uci.edu/ml/datasets/Multiple+Features). The dataset consists of features generated from handwritten numerals(0-9) from a collection of Dutch utility maps. The goal is to predict the number.\n",
    "\n",
    "**Problem Type**: Multinominal classification (10 classes)\n",
    "\n",
    "**Size**: 217 features, 2000 instances"
   ]
  },
  {
   "cell_type": "markdown",
   "metadata": {},
   "source": [
    "## musk.csv\n",
    "\n",
    "The musk data set from [UCI](https://archive.ics.uci.edu/ml/datasets/Musk+%28Version+1%29). The data set describes a set of 102 molecules of which 39 are judged by human experts to be musks and the remaining 63 molecules are judged to be non-musks. The goal is to learn to predict whether new molecules will be musks or non-musks. \n",
    "\n",
    "**Problem Type**: Binary classification\n",
    "\n",
    "**Size**: 167 features, 476 instances"
   ]
  },
  {
   "cell_type": "markdown",
   "metadata": {},
   "source": [
    "## online_news_popuarity.csv\n",
    "\n",
    "The online news popularity data set from [UCI](https://archive.ics.uci.edu/ml/datasets/online+news+popularity). The dataset contains a set of features about articles published by Mashable in a period of two years. The goal is to predict if the number of shares in social networks is above 1400.\n",
    "\n",
    "**Problem Type**: Binary classification\n",
    "\n",
    "**Size**: 61 features, 39797 instances"
   ]
  },
  {
   "cell_type": "markdown",
   "metadata": {},
   "source": [
    "## orl.csv\n",
    "\n",
    "The orl data set has features generated from [The ORL Database of Faces](https://www.cl.cam.ac.uk/research/dtg/attarchive/facedatabase.html). The data set contains the features of 40 subjects, each subject had 10 different photos taken. The goal is to predict which subject is in the photo.\n",
    "\n",
    "**Problem Type**: Multinominal classification (40 classes)\n",
    "\n",
    "**Size**: 1025 features, 400 instances"
   ]
  },
  {
   "cell_type": "markdown",
   "metadata": {},
   "source": [
    "## phishing_websites.csv\n",
    "\n",
    "The phishing website data from [Kaggle](https://www.kaggle.com/akashkr/phishing-website-dataset). The data set consist of features of websites. The goal is to predict whether the website is a phishing website.\n",
    "\n",
    "**Problem Type**: Binary classification\n",
    "\n",
    "**Size**: 31 features, 11055 instances"
   ]
  },
  {
   "cell_type": "markdown",
   "metadata": {},
   "source": [
    "## planes2d.csv\n",
    "\n",
    "\n",
    "**Problem type**: Regression\n",
    "\n",
    "**Size**: 11 features, 40768 instances"
   ]
  },
  {
   "cell_type": "markdown",
   "metadata": {},
   "source": [
    "## pole_telecomm.csv\n",
    "\n",
    "Pole telecomm dataset from [LLIACC repository](http://www.dcc.fc.up.pt/~ltorgo/Regression/DataSets.html). \n",
    "\n",
    "**Problem type**: Regression\n",
    "\n",
    "**Size**: 26 features, 5000 instances"
   ]
  },
  {
   "cell_type": "markdown",
   "metadata": {},
   "source": [
    "## pyrim.csv\n",
    "\n",
    "The pyrim dataset was studied by [Hirst et al (1993)](https://www4.stat.ncsu.edu/~boos/var.select/pyrimidine.pdf). The data set contains structural information on 74 2,4-diamino- 5-(substituted benzyl) pyrimidines used as inhibitors of DHFR in E. coli. The goal is to predict the inhabition constant.\n",
    "\n",
    "**Problem type**: Regression\n",
    "\n",
    "**Size**: 27 features, 74 instances"
   ]
  },
  {
   "cell_type": "markdown",
   "metadata": {},
   "source": [
    "## sonar.csv\n",
    "\n",
    "The sonar dataset from [UCI](http://archive.ics.uci.edu/ml/datasets/connectionist+bench+%28sonar,+mines+vs.+rocks%29). The dataset contains sonar signal information for cylinder-shaped objects obtained from a variety of different aspect angles. The objective is to predict whether a given observation is a rock or a metal.\n",
    "\n",
    "**Problem type**: Binary classification (1: metal, -1: rock)\n",
    "\n",
    "**Size**: 60 features, 208 instances"
   ]
  },
  {
   "cell_type": "markdown",
   "metadata": {},
   "source": [
    "## spambase.csv\n",
    "\n",
    "The spambase dataset from [UCI](https://archive.ics.uci.edu/ml/datasets/spambase). The dataset contains features of emails, both spam and non-spam. The goal is to predict whether the email is spam.\n",
    "\n",
    "**Problem type**: Binary classification\n",
    "\n",
    "**Size**: 58 features, 4601 instances"
   ]
  },
  {
   "cell_type": "markdown",
   "metadata": {},
   "source": [
    "## speed_dating.csv\n",
    "The speed dating dataset was compiled for this [study](https://faculty.chicagobooth.edu/emir.kamenica/documents/genderDifferences.pdf). Data was gathered from participants in experimental speed dating events from 2002-2004 where the participants answered a questionaire at different times of the process. The goal is to predict whether the couple went on a second date.\n",
    "\n",
    "**Problem type**: Binary classification\n",
    "\n",
    "**Size**: 121 features, 8378 instances"
   ]
  },
  {
   "cell_type": "markdown",
   "metadata": {},
   "source": [
    "## telco_customer_churn.csv\n",
    "\n",
    "The telco customer churn dataset from [Kaggle](https://www.kaggle.com/blastchar/telco-customer-churn). The dataset contains information of telco customers such as service subscriptions and account information. The goal is to predict whether the customer will change telco providers (churn).\n",
    "\n",
    "**Problem type**: Binary classification\n",
    "\n",
    "**Size**: 20 features, 7043 instances"
   ]
  },
  {
   "cell_type": "markdown",
   "metadata": {},
   "source": [
    "## tox_171.csv\n",
    "\n",
    "**Problem type**: Multinominal classification (4 classes)\n",
    "\n",
    "**Size**: 5749 features, 171 instances"
   ]
  },
  {
   "cell_type": "markdown",
   "metadata": {},
   "source": [
    "## triazine.csv\n",
    "\n",
    "The Qualitative Structure Activity Relationships dataset from [UCI](https://archive.ics.uci.edu/ml/datasets/Qualitative+Structure+Activity+Relationships). The dataset contains descriptive structural attributes to triazine, the goal is to predict the activity.\n",
    "\n",
    "**Problem type**: Regression\n",
    "\n",
    "**Size**: 61 features, 186 instances"
   ]
  },
  {
   "cell_type": "markdown",
   "metadata": {},
   "source": [
    "## us_census_income_data.csv\n",
    "\n",
    "The census income dataset from [UCI](https://archive.ics.uci.edu/ml/datasets/census+income). The data was taken from the 1994 US Census Database. The goal is to predict whether an individual earns more than $50,000 a year.\n",
    "\n",
    "**Problem type**: Binary classification\n",
    "\n",
    "**Size**: 12 features, 45222 instances"
   ]
  },
  {
   "cell_type": "markdown",
   "metadata": {},
   "source": [
    "## usps.csv\n",
    "\n",
    "The usps dataset based on the [Handwritten Digits USPS database](https://ieeexplore.ieee.org/document/291440/references#references ) and uploaded to [Kaggle](https://www.kaggle.com/bistaumanga/usps-dataset ). The dataset contains features on handwritten numerals and the goal here is to identify the numerical digit.\n",
    "\n",
    "**Problem type**: Multinominal classification (10 classes)\n",
    "\n",
    "**Size**: 257 features, 9298 instances"
   ]
  },
  {
   "cell_type": "markdown",
   "metadata": {},
   "source": [
    "## vehicle.csv\n",
    "\n",
    "The vehicle dataset from [UCI](https://archive.ics.uci.edu/ml/datasets/Statlog+%28Vehicle+Silhouettes%29). The dataset contains silhouette information as one of four types of vehicle, using a set of features extracted from the silhouette where the vehicles are viewed various angles. The objective is to predict the type of vehicle.\n",
    "\n",
    "Problem type: Multinomial classification (4 classes: Opel, Saab, bus, van)\n",
    "\n",
    "Size: 18 features, 846 instances"
   ]
  },
  {
   "cell_type": "markdown",
   "metadata": {},
   "source": [
    "## waveform.csv\n",
    "The waveform dataset from [UCI](http://archive.ics.uci.edu/ml/datasets/waveform+database+generator+%28version+2%29). The dataset contains features of wave attributes. The goal is to predict the wave class.\n",
    "\n",
    "**Problem type**: Multinominal classification (3 classes)\n",
    "\n",
    "**Size**: 41 features, 5000 instances"
   ]
  },
  {
   "cell_type": "markdown",
   "metadata": {},
   "source": [
    "***\n",
    "www.featureranking.com"
   ]
  }
 ],
 "metadata": {
  "hide_input": false,
  "kernelspec": {
   "display_name": "Python 3 (ipykernel)",
   "language": "python",
   "name": "python3"
  },
  "language_info": {
   "codemirror_mode": {
    "name": "ipython",
    "version": 3
   },
   "file_extension": ".py",
   "mimetype": "text/x-python",
   "name": "python",
   "nbconvert_exporter": "python",
   "pygments_lexer": "ipython3",
   "version": "3.8.10"
  },
  "varInspector": {
   "cols": {
    "lenName": 16,
    "lenType": 16,
    "lenVar": 40
   },
   "kernels_config": {
    "python": {
     "delete_cmd_postfix": "",
     "delete_cmd_prefix": "del ",
     "library": "var_list.py",
     "varRefreshCmd": "print(var_dic_list())"
    },
    "r": {
     "delete_cmd_postfix": ") ",
     "delete_cmd_prefix": "rm(",
     "library": "var_list.r",
     "varRefreshCmd": "cat(var_dic_list()) "
    }
   },
   "types_to_exclude": [
    "module",
    "function",
    "builtin_function_or_method",
    "instance",
    "_Feature"
   ],
   "window_display": false
  }
 },
 "nbformat": 4,
 "nbformat_minor": 2
}
